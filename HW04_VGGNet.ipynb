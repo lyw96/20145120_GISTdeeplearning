{
  "nbformat": 4,
  "nbformat_minor": 0,
  "metadata": {
    "colab": {
      "name": "HW04_VGGNet.ipynb",
      "version": "0.3.2",
      "provenance": [],
      "collapsed_sections": [],
      "include_colab_link": true
    },
    "kernelspec": {
      "name": "python3",
      "display_name": "Python 3"
    },
    "accelerator": "GPU"
  },
  "cells": [
    {
      "cell_type": "markdown",
      "metadata": {
        "id": "view-in-github",
        "colab_type": "text"
      },
      "source": [
        "<a href=\"https://colab.research.google.com/github/lyw96/20145120_GISTdeeplearning/blob/master/HW04_VGGNet.ipynb\" target=\"_parent\"><img src=\"https://colab.research.google.com/assets/colab-badge.svg\" alt=\"Open In Colab\"/></a>"
      ]
    },
    {
      "cell_type": "markdown",
      "metadata": {
        "id": "qtkGyAsoVwDi",
        "colab_type": "text"
      },
      "source": [
        "# HW04  VGGNet\n",
        "Deep Learning, GIST RT5101-01, 2019, Spring, (Tue/Thurs 2:30~3:45)\n",
        "***\n",
        "\n",
        "### About the VGGNet\n",
        "\n",
        "- VGGNet is invented by VGG (Visual Geometry Group) from the University of Oxford ([paper](https://www.google.com/url?sa=t&rct=j&q=&esrc=s&source=web&cd=1&ved=2ahUKEwilz7Ptu4jiAhWIdXAKHYr9BK0QFjAAegQIAhAC&url=https%3A%2F%2Farxiv.org%2Fpdf%2F1409.1556&usg=AOvVaw3u_l2DJveBaeO_vs_qyLMT))\n",
        "- VGGNet is the 1st runner-up, not the winner of the ILSVRC (ImageNet Large Scale Visual Recognition Competition) 2014 in the classification task\n",
        "- Nevertheless, VGGNet beats the GoogLeNet and won the localization task in ILSVRC 2014.\n",
        "- There are many other models built on top of VGGNet or based on the 3×3 conv idea of VGGNet for other purposes or other domains.\n",
        "- In the paper, there is 5 version of VGGNet. Here, you have to implement the VGG-16.\n",
        "\n",
        "![대체 텍스트](https://cdn-images-1.medium.com/max/1200/1*_1DEx3bHlnBApCWWQ0HgcQ.png)\n",
        "\n",
        "Your homework consists of the following steps:\n",
        "\n",
        "1. Build a VGGNet-16\n",
        "2. visualize the results after training and testing it.\n",
        "\n",
        "The codes for loading the CIFAR10 dataset will be given.   \n",
        "\n",
        "### How to submit your homework\n",
        "Submit your jupyter notebook file with the filename of  *HW04_studentnumber.ipynb*  on GEL  \n",
        "Ex) HW04_20184021.ipynb  \n",
        "Also, please **upload your graph image on GEL along with .ipynb**\n",
        "\n",
        "### Submission deadline\n",
        "2019.5.19, Sunday 23:55 (PM)\n",
        "\n",
        "### Plagiarism\n",
        "We encourage you to discuss this homework with your friends or TA, but you should write your own code.\n",
        "\n",
        "\n"
      ]
    },
    {
      "cell_type": "markdown",
      "metadata": {
        "id": "ohaQp_wqrJfs",
        "colab_type": "text"
      },
      "source": [
        "## Guide: Load CIFAR10 Dataset\n",
        "---\n",
        "Before training the VGGNet-16, Let's load CIFAR10 dataset   \n",
        "`Note: All the codes in this guide is the same as the lecture material.`\n",
        "\n"
      ]
    },
    {
      "cell_type": "markdown",
      "metadata": {
        "id": "wAWm0QAtk7x6",
        "colab_type": "text"
      },
      "source": [
        "Let's import required python package\n",
        "\n",
        "Here, ``torchvision`` module provides useful benchmark datasets and image transfromation functions\n"
      ]
    },
    {
      "cell_type": "code",
      "metadata": {
        "id": "prd_tT3NrOYk",
        "colab_type": "code",
        "colab": {}
      },
      "source": [
        "import torch\n",
        "import torch.nn as nn\n",
        "import torch.nn.functional as F\n",
        "import torch.optim as optim\n",
        "import torchvision\n",
        "import torchvision.transforms as transforms\n",
        "import torchvision.datasets as datasets\n",
        "import math"
      ],
      "execution_count": 0,
      "outputs": []
    },
    {
      "cell_type": "markdown",
      "metadata": {
        "id": "j0da9HZarW3X",
        "colab_type": "text"
      },
      "source": [
        "Define device configuration (CPU Computation or GPU Computation)"
      ]
    },
    {
      "cell_type": "code",
      "metadata": {
        "id": "VSFEnBE_rW9s",
        "colab_type": "code",
        "outputId": "db13e184-8bec-41cc-fb9b-e9831db7be8f",
        "colab": {
          "base_uri": "https://localhost:8080/",
          "height": 35
        }
      },
      "source": [
        "device = torch.device('cuda:0' if torch.cuda.is_available() else 'cpu')\n",
        "print(device)"
      ],
      "execution_count": 3,
      "outputs": [
        {
          "output_type": "stream",
          "text": [
            "cuda:0\n"
          ],
          "name": "stdout"
        }
      ]
    },
    {
      "cell_type": "code",
      "metadata": {
        "id": "8PiGJhj0hNHC",
        "colab_type": "code",
        "colab": {}
      },
      "source": [
        "# Hyper parameters\n",
        "num_epochs = 10 # number of epochs for train\n",
        "batch_size = 64 # do not change this value\n",
        "learning_rate = 0.0001 # do not change this value\n",
        "num_classes=10"
      ],
      "execution_count": 0,
      "outputs": []
    },
    {
      "cell_type": "markdown",
      "metadata": {
        "id": "0lJAxpK_raTK",
        "colab_type": "text"
      },
      "source": [
        "Download CIFAR10 dataset\n",
        "\n",
        "You can check the number of dataset by printing ```len(dataset)```\n",
        "\n",
        "\n"
      ]
    },
    {
      "cell_type": "code",
      "metadata": {
        "id": "vy9OchhkoLOs",
        "colab_type": "code",
        "outputId": "3aa20e69-6888-4ad6-e62b-a030e081ed70",
        "colab": {
          "base_uri": "https://localhost:8080/",
          "height": 71
        }
      },
      "source": [
        "# CIFAR10 dataset\n",
        "\n",
        "composed_transforms = transforms.Compose([transforms.Resize((224,224)),\n",
        "                                         transforms.ToTensor(),]) # 32,32 to 224,224\n",
        "\n",
        "train_dataset = torchvision.datasets.CIFAR10(root='./data',\n",
        "                                           train=True, \n",
        "                                           transform=composed_transforms,                                          \n",
        "                                           download=True)\n",
        "\n",
        "test_dataset = torchvision.datasets.CIFAR10(root='./data',\n",
        "                                          train=False, \n",
        "                                          transform=composed_transforms)\n",
        "\n",
        "print('Number of train images: {}'.format(len(train_dataset)))\n",
        "print('Number of test images: {}'.format(len(test_dataset)))\n"
      ],
      "execution_count": 5,
      "outputs": [
        {
          "output_type": "stream",
          "text": [
            "\r0it [00:00, ?it/s]"
          ],
          "name": "stderr"
        },
        {
          "output_type": "stream",
          "text": [
            "Downloading https://www.cs.toronto.edu/~kriz/cifar-10-python.tar.gz to ./data/cifar-10-python.tar.gz\n"
          ],
          "name": "stdout"
        },
        {
          "output_type": "stream",
          "text": [
            "100%|█████████▉| 170303488/170498071 [00:22<00:00, 7346324.24it/s]"
          ],
          "name": "stderr"
        },
        {
          "output_type": "stream",
          "text": [
            "Number of train images: 50000\n",
            "Number of test images: 10000\n"
          ],
          "name": "stdout"
        }
      ]
    },
    {
      "cell_type": "markdown",
      "metadata": {
        "id": "KGiGQLaXoab0",
        "colab_type": "text"
      },
      "source": [
        "```torch.utils.data.DataLoader``` shuffles the training data and devides the entire data with ```batch_size```\n",
        "\n"
      ]
    },
    {
      "cell_type": "code",
      "metadata": {
        "id": "poIE18hKomJ6",
        "colab_type": "code",
        "colab": {}
      },
      "source": [
        "# Data loader\n",
        "train_loader = torch.utils.data.DataLoader(dataset=train_dataset,\n",
        "                                           batch_size=batch_size, \n",
        "                                           shuffle=True)\n",
        "\n",
        "test_loader = torch.utils.data.DataLoader(dataset=test_dataset,\n",
        "                                          batch_size=batch_size, \n",
        "                                          shuffle=False)"
      ],
      "execution_count": 0,
      "outputs": []
    },
    {
      "cell_type": "code",
      "metadata": {
        "id": "HYAL490idLRJ",
        "colab_type": "code",
        "outputId": "d1cf1539-0e9e-45fa-eec7-742c8c20cc77",
        "colab": {
          "base_uri": "https://localhost:8080/",
          "height": 353
        }
      },
      "source": [
        "import matplotlib.pyplot as plt\n",
        "import numpy as np\n",
        "import random\n",
        "\n",
        "# Get single image data\n",
        "image_tensor, image_label = train_dataset.__getitem__(random.randint(0, len(train_dataset)))\n",
        "print('Size of single image tensor: {}'.format(image_tensor.size()))\n",
        "\n",
        "# Torch tensor to numpy array\n",
        "image_array = image_tensor.squeeze().numpy()\n",
        "image_array = np.transpose(image_array, (1, 2, 0))\n",
        "\n",
        "print('Size of single image array: {}\\n'.format(image_array.shape))\n",
        "\n",
        "# Plot image\n",
        "plt.title('Image of {}'.format(image_label))\n",
        "plt.imshow(image_array)\n"
      ],
      "execution_count": 7,
      "outputs": [
        {
          "output_type": "stream",
          "text": [
            "Size of single image tensor: torch.Size([3, 224, 224])\n",
            "Size of single image array: (224, 224, 3)\n",
            "\n"
          ],
          "name": "stdout"
        },
        {
          "output_type": "execute_result",
          "data": {
            "text/plain": [
              "<matplotlib.image.AxesImage at 0x7f1ff3190748>"
            ]
          },
          "metadata": {
            "tags": []
          },
          "execution_count": 7
        },
        {
          "output_type": "display_data",
          "data": {
            "image/png": "[encoded data removed]",
            "text/plain": [
              "<Figure size 432x288 with 1 Axes>"
            ]
          },
          "metadata": {
            "tags": []
          }
        }
      ]
    },
    {
      "cell_type": "markdown",
      "metadata": {
        "id": "0xUaQUd0xjsn",
        "colab_type": "text"
      },
      "source": [
        "## Problem1. Implementation of VGGNet-16 (50%)\n",
        "\n",
        "\n",
        "- Implement the convolutional layers fully connected layers in `self.features` and `self.classifiers`, respectively.\n",
        "- VGGNet-16 consists of 13 convolutional layers and three fully connected layers.\n",
        "\n",
        "- Convolutional layers\n",
        "\n",
        "| layer       | feature maps | kernel size | stride | padding | activation |\n",
        "|:-------------:|:--------------:|-------------|--------|---------|------------|\n",
        "| input image | 1            | -           | -      | -       | -          |\n",
        "| conv1       | 64           | 3x3         | 1x1    | 1x1     | relu       |\n",
        "|    conv2    |      64      |     3x3     |   1x1  |   1x1   |    relu    |\n",
        "|   maxpool1  |      64      |     2x2     |   2x2  |    -    |      -     |\n",
        "|    conv3    |      128     |     3x3     |   1x1  |   1x1   |    relu    |\n",
        "|    conv4    |      128     |     3x3     |   1x1  |   1x1   |    relu    |\n",
        "|   maxpool2  |      128     |     2x2     |   2x2  |    -    |      -     |\n",
        "|    conv5    |      256     |     3x3     |   1x1  |   1x1   |    relu    |\n",
        "|    conv6    |      256     |     3x3     |   1x1  |   1x1   |    relu    |\n",
        "|    conv7    |      256     |     3x3     |   1x1  |   1x1   |    relu    |\n",
        "|   maxpool3  |      256     |     2x2     |   2x2  |    -    |      -     |\n",
        "|    conv8    |      512     |     3x3     |   1x1  |   1x1   |    relu    |\n",
        "|    conv9    |      512     |     3x3     |   1x1  |   1x1   |    relu    |\n",
        "|    conv10   |      512     |     3x3     |   1x1  |   1x1   |    relu    |\n",
        "|   maxpool4  |      512     |     2x2     |   2x2  |    -    |      -     |\n",
        "|    conv11   |      512     |     3x3     |   1x1  |   1x1   |    relu    |\n",
        "|    conv12   |      512     |     3x3     |   1x1  |   1x1   |    relu    |\n",
        "|    conv13   |      512     |     3x3     |   1x1  |   1x1   |    relu    |\n",
        "|   maxpool5  |      512     |     2x2     |   2x2  |    -    |      -     |\n",
        "\n",
        "- Fully connected layers.\n",
        "\n",
        "|  layer  | size | activation |\n",
        "|:-------:|:----:|:----------:|\n",
        "| linear1 | 4096 |    relu    |\n",
        "| dropout |   -  |      -     |\n",
        "| linear2 | 4096 |    relu    |\n",
        "| dropout |   -  |      -     |\n",
        "| linear3 | 4096 |  num_class |\n",
        "\n",
        "\n",
        "[Reference](https://https://medium.com/coinmonks/paper-review-of-vggnet-1st-runner-up-of-ilsvlc-2014-image-classification-d02355543a11)"
      ]
    },
    {
      "cell_type": "code",
      "metadata": {
        "id": "e-iZxpBGyjrd",
        "colab_type": "code",
        "outputId": "79dc75b2-4076-4a01-b523-5b4e54a0df6f",
        "colab": {
          "base_uri": "https://localhost:8080/",
          "height": 827
        }
      },
      "source": [
        "class VGGNet(nn.Module):\n",
        "    def __init__(self, init_weights=True):\n",
        "        super(VGGNet, self).__init__()\n",
        "        \n",
        "        self.features = nn.Sequential(\n",
        "            nn.Conv2d(3, 64, kernel_size=3, stride=1, padding=1), ##conv1\n",
        "            nn.ReLU(),\n",
        "            nn.Conv2d(64, 64, kernel_size=3, stride=1, padding=1), ##conv2\n",
        "            nn.ReLU(), \n",
        "            nn.MaxPool2d(kernel_size=2, stride=2), ##maxpool1\n",
        "            \n",
        "            nn.Conv2d(64, 128, kernel_size=3, stride=1, padding=1), ##conv3\n",
        "            nn.ReLU(),\n",
        "            nn.Conv2d(128, 128, kernel_size=3, stride=1, padding=1), ##conv4\n",
        "            nn.ReLU(), \n",
        "            nn.MaxPool2d(kernel_size=2, stride=2), ##maxpool2\n",
        "            \n",
        "            nn.Conv2d(128, 256, kernel_size=3, stride=1, padding=1), ##conv5\n",
        "            nn.ReLU(),\n",
        "            nn.Conv2d(256, 256, kernel_size=3, stride=1, padding=1), ##conv6\n",
        "            nn.ReLU(),\n",
        "            nn.Conv2d(256, 256, kernel_size=3, stride=1, padding=1), ##conv7\n",
        "            nn.ReLU(),\n",
        "            nn.MaxPool2d(kernel_size=2, stride=2), ##maxpool3\n",
        "            \n",
        "            nn.Conv2d(256, 512, kernel_size=3, stride=1, padding=1), ##conv8\n",
        "            nn.ReLU(),\n",
        "            nn.Conv2d(512, 512, kernel_size=3, stride=1, padding=1), ##conv9\n",
        "            nn.ReLU(),\n",
        "            nn.Conv2d(512, 512, kernel_size=3, stride=1, padding=1), ##conv10\n",
        "            nn.ReLU(),\n",
        "            nn.MaxPool2d(kernel_size=2, stride=2), ##maxpool4\n",
        "            \n",
        "            nn.Conv2d(512, 512, kernel_size=3, stride=1, padding=1), ##conv11\n",
        "            nn.ReLU(),\n",
        "            nn.Conv2d(512, 512, kernel_size=3, stride=1, padding=1), ##conv12\n",
        "            nn.ReLU(),\n",
        "            nn.Conv2d(512, 512, kernel_size=3, stride=1, padding=1), ##conv13\n",
        "            nn.ReLU(),\n",
        "            nn.MaxPool2d(kernel_size=2, stride=2), ##maxpool5\n",
        "            # convolutional layers\n",
        "        )\n",
        "        if init_weights:\n",
        "            self._initialize_weights()    ## Weight Initialization\n",
        "        \n",
        "        self.classifier = nn.Sequential(\n",
        "            nn.Linear((512) * 7 * 7, 4096), ##FC1\n",
        "            nn.ReLU(),\n",
        "            nn.Dropout(),\n",
        "            nn.Linear(4096, 4096), ## FC2\n",
        "            nn.ReLU(),\n",
        "            nn.Dropout(),\n",
        "            nn.Linear(4096, num_classes), ##FC3\n",
        "            # fully connected layers\n",
        "        )\n",
        "\n",
        "    def forward(self, x):\n",
        "        x = self.features(x)\n",
        "        x = x.view(x.shape[0], -1)\n",
        "        x = self.classifier(x)\n",
        "        return x\n",
        "   \n",
        "    def _initialize_weights(self):     ## Xavier weight Initialization\n",
        "        for m in self.modules():\n",
        "            if isinstance(m, nn.Conv2d):\n",
        "                n = m.kernel_size[0] * m.kernel_size[1] * m.out_channels\n",
        "                m.weight.data.normal_(0, math.sqrt(2. / n))\n",
        "                if m.bias is not None:\n",
        "                    m.bias.data.zero_()\n",
        "            elif isinstance(m, nn.BatchNorm2d):\n",
        "                m.weight.data.fill_(1)\n",
        "                m.bias.data.zero_()\n",
        "            elif isinstance(m, nn.Linear):\n",
        "                m.weight.data.normal_(0, 0.01)\n",
        "                m.bias.data.zero_()\n",
        "      \n",
        "      \n",
        "      \n",
        "model = VGGNet().to(device)   \n",
        "print('Number of parameters: {}'.format(sum(p.numel() for p in model.parameters())))\n",
        "print(model)"
      ],
      "execution_count": 8,
      "outputs": [
        {
          "output_type": "stream",
          "text": [
            "Number of parameters: 134301514\n",
            "VGGNet(\n",
            "  (features): Sequential(\n",
            "    (0): Conv2d(3, 64, kernel_size=(3, 3), stride=(1, 1), padding=(1, 1))\n",
            "    (1): ReLU()\n",
            "    (2): Conv2d(64, 64, kernel_size=(3, 3), stride=(1, 1), padding=(1, 1))\n",
            "    (3): ReLU()\n",
            "    (4): MaxPool2d(kernel_size=2, stride=2, padding=0, dilation=1, ceil_mode=False)\n",
            "    (5): Conv2d(64, 128, kernel_size=(3, 3), stride=(1, 1), padding=(1, 1))\n",
            "    (6): ReLU()\n",
            "    (7): Conv2d(128, 128, kernel_size=(3, 3), stride=(1, 1), padding=(1, 1))\n",
            "    (8): ReLU()\n",
            "    (9): MaxPool2d(kernel_size=2, stride=2, padding=0, dilation=1, ceil_mode=False)\n",
            "    (10): Conv2d(128, 256, kernel_size=(3, 3), stride=(1, 1), padding=(1, 1))\n",
            "    (11): ReLU()\n",
            "    (12): Conv2d(256, 256, kernel_size=(3, 3), stride=(1, 1), padding=(1, 1))\n",
            "    (13): ReLU()\n",
            "    (14): Conv2d(256, 256, kernel_size=(3, 3), stride=(1, 1), padding=(1, 1))\n",
            "    (15): ReLU()\n",
            "    (16): MaxPool2d(kernel_size=2, stride=2, padding=0, dilation=1, ceil_mode=False)\n",
            "    (17): Conv2d(256, 512, kernel_size=(3, 3), stride=(1, 1), padding=(1, 1))\n",
            "    (18): ReLU()\n",
            "    (19): Conv2d(512, 512, kernel_size=(3, 3), stride=(1, 1), padding=(1, 1))\n",
            "    (20): ReLU()\n",
            "    (21): Conv2d(512, 512, kernel_size=(3, 3), stride=(1, 1), padding=(1, 1))\n",
            "    (22): ReLU()\n",
            "    (23): MaxPool2d(kernel_size=2, stride=2, padding=0, dilation=1, ceil_mode=False)\n",
            "    (24): Conv2d(512, 512, kernel_size=(3, 3), stride=(1, 1), padding=(1, 1))\n",
            "    (25): ReLU()\n",
            "    (26): Conv2d(512, 512, kernel_size=(3, 3), stride=(1, 1), padding=(1, 1))\n",
            "    (27): ReLU()\n",
            "    (28): Conv2d(512, 512, kernel_size=(3, 3), stride=(1, 1), padding=(1, 1))\n",
            "    (29): ReLU()\n",
            "    (30): MaxPool2d(kernel_size=2, stride=2, padding=0, dilation=1, ceil_mode=False)\n",
            "  )\n",
            "  (classifier): Sequential(\n",
            "    (0): Linear(in_features=25088, out_features=4096, bias=True)\n",
            "    (1): ReLU()\n",
            "    (2): Dropout(p=0.5)\n",
            "    (3): Linear(in_features=4096, out_features=4096, bias=True)\n",
            "    (4): ReLU()\n",
            "    (5): Dropout(p=0.5)\n",
            "    (6): Linear(in_features=4096, out_features=10, bias=True)\n",
            "  )\n",
            ")\n"
          ],
          "name": "stdout"
        }
      ]
    },
    {
      "cell_type": "markdown",
      "metadata": {
        "id": "fDLkdlvur1TN",
        "colab_type": "text"
      },
      "source": [
        "## Problem2. Train and Test the VGGNet-16 (50%)\n",
        "\n",
        "1.  Define the criterion and optimizer (use the CrossEntropyLoss and Adam optimizer)\n",
        "- Using the `train_loader`, train the VGGNet on CIFAR10 dataset for ten epoch \n",
        "- While training, monitor the **training loss and accuracy** and draw the graph (loss vs. epoch | accuracy vs. epoch) with matplotlib or tensorboardX\n",
        "- After training the model, compute and print the **validation loss and accuracy** by running your trained model on the test dataset. (Use the `test_loader`)"
      ]
    },
    {
      "cell_type": "code",
      "metadata": {
        "id": "QPzmjEAju7NZ",
        "colab_type": "code",
        "colab": {}
      },
      "source": [
        "## Use CrossEntropy and AdamOptimizer\n",
        "criterion = nn.CrossEntropyLoss()\n",
        "optimizer = torch.optim.Adam(model.parameters(), lr=learning_rate)\n",
        "\n",
        "## Space for storing loss and accuracy\n",
        "loss_list=np.empty(0)\n",
        "acc_list=np.empty(0)\n",
        "\n"
      ],
      "execution_count": 0,
      "outputs": []
    },
    {
      "cell_type": "code",
      "metadata": {
        "id": "XN6q0kiVvCSs",
        "colab_type": "code",
        "colab": {
          "base_uri": "https://localhost:8080/",
          "height": 1277
        },
        "outputId": "4b6e45f2-c49f-4fbf-a206-10a8dd79752c"
      },
      "source": [
        "total_step = len(train_loader)\n",
        "\n",
        "\n",
        "for epoch in range(num_epochs):\n",
        "    correct = 0\n",
        "    total = 0\n",
        "    for i, (images, labels) in enumerate(train_loader):\n",
        "        images = images.to(device)\n",
        "        labels = labels.to(device)\n",
        "        \n",
        "        # Forward pass\n",
        "        outputs = model(images)\n",
        "        _, predicted = torch.max(outputs.data, 1)\n",
        "        loss = criterion(outputs, labels)\n",
        "        \n",
        "        # Backward and optimize\n",
        "        optimizer.zero_grad()\n",
        "        loss.backward()\n",
        "        optimizer.step()\n",
        "        \n",
        "        if (i+1) % 100 == 0:\n",
        "            print ('Epoch [{}/{}], Step [{}/{}], Loss: {:.4f}'\n",
        "                   .format(epoch+1, num_epochs, i+1, total_step, loss.item()))\n",
        "        total += labels.size(0)\n",
        "        correct += (predicted == labels).sum().item()\n",
        "    train_acc = 100 * (correct / total)\n",
        "    loss_list = np.append(loss_list, loss.cpu().data.numpy())\n",
        "    acc_list=np.append(acc_list,train_acc)"
      ],
      "execution_count": 11,
      "outputs": [
        {
          "output_type": "stream",
          "text": [
            "\r170500096it [00:40, 7346324.24it/s]                               "
          ],
          "name": "stderr"
        },
        {
          "output_type": "stream",
          "text": [
            "Epoch [1/10], Step [100/782], Loss: 1.9036\n",
            "Epoch [1/10], Step [200/782], Loss: 1.7290\n",
            "Epoch [1/10], Step [300/782], Loss: 1.5847\n",
            "Epoch [1/10], Step [400/782], Loss: 1.4637\n",
            "Epoch [1/10], Step [500/782], Loss: 1.6704\n",
            "Epoch [1/10], Step [600/782], Loss: 1.3169\n",
            "Epoch [1/10], Step [700/782], Loss: 0.7647\n",
            "Epoch [2/10], Step [100/782], Loss: 1.1380\n",
            "Epoch [2/10], Step [200/782], Loss: 1.1406\n",
            "Epoch [2/10], Step [300/782], Loss: 0.9447\n",
            "Epoch [2/10], Step [400/782], Loss: 1.0008\n",
            "Epoch [2/10], Step [500/782], Loss: 0.7930\n",
            "Epoch [2/10], Step [600/782], Loss: 0.6801\n",
            "Epoch [2/10], Step [700/782], Loss: 0.6932\n",
            "Epoch [3/10], Step [100/782], Loss: 0.7836\n",
            "Epoch [3/10], Step [200/782], Loss: 0.9010\n",
            "Epoch [3/10], Step [300/782], Loss: 0.3632\n",
            "Epoch [3/10], Step [400/782], Loss: 0.5770\n",
            "Epoch [3/10], Step [500/782], Loss: 0.4305\n",
            "Epoch [3/10], Step [600/782], Loss: 0.6356\n",
            "Epoch [3/10], Step [700/782], Loss: 0.8170\n",
            "Epoch [4/10], Step [100/782], Loss: 0.4769\n",
            "Epoch [4/10], Step [200/782], Loss: 0.4217\n",
            "Epoch [4/10], Step [300/782], Loss: 0.5430\n",
            "Epoch [4/10], Step [400/782], Loss: 0.4198\n",
            "Epoch [4/10], Step [500/782], Loss: 0.3525\n",
            "Epoch [4/10], Step [600/782], Loss: 0.7011\n",
            "Epoch [4/10], Step [700/782], Loss: 0.5883\n",
            "Epoch [5/10], Step [100/782], Loss: 0.3073\n",
            "Epoch [5/10], Step [200/782], Loss: 0.4559\n",
            "Epoch [5/10], Step [300/782], Loss: 0.2972\n",
            "Epoch [5/10], Step [400/782], Loss: 0.1742\n",
            "Epoch [5/10], Step [500/782], Loss: 0.2113\n",
            "Epoch [5/10], Step [600/782], Loss: 0.4158\n",
            "Epoch [5/10], Step [700/782], Loss: 0.2701\n",
            "Epoch [6/10], Step [100/782], Loss: 0.1858\n",
            "Epoch [6/10], Step [200/782], Loss: 0.2221\n",
            "Epoch [6/10], Step [300/782], Loss: 0.0804\n",
            "Epoch [6/10], Step [400/782], Loss: 0.2015\n",
            "Epoch [6/10], Step [500/782], Loss: 0.0387\n",
            "Epoch [6/10], Step [600/782], Loss: 0.2424\n",
            "Epoch [6/10], Step [700/782], Loss: 0.1119\n",
            "Epoch [7/10], Step [100/782], Loss: 0.0936\n",
            "Epoch [7/10], Step [200/782], Loss: 0.0969\n",
            "Epoch [7/10], Step [300/782], Loss: 0.0437\n",
            "Epoch [7/10], Step [400/782], Loss: 0.0350\n",
            "Epoch [7/10], Step [500/782], Loss: 0.1811\n",
            "Epoch [7/10], Step [600/782], Loss: 0.2645\n",
            "Epoch [7/10], Step [700/782], Loss: 0.0592\n",
            "Epoch [8/10], Step [100/782], Loss: 0.0630\n",
            "Epoch [8/10], Step [200/782], Loss: 0.0797\n",
            "Epoch [8/10], Step [300/782], Loss: 0.0665\n",
            "Epoch [8/10], Step [400/782], Loss: 0.1920\n",
            "Epoch [8/10], Step [500/782], Loss: 0.1719\n",
            "Epoch [8/10], Step [600/782], Loss: 0.0623\n",
            "Epoch [8/10], Step [700/782], Loss: 0.1292\n",
            "Epoch [9/10], Step [100/782], Loss: 0.1299\n",
            "Epoch [9/10], Step [200/782], Loss: 0.0287\n",
            "Epoch [9/10], Step [300/782], Loss: 0.0668\n",
            "Epoch [9/10], Step [400/782], Loss: 0.0300\n",
            "Epoch [9/10], Step [500/782], Loss: 0.0508\n",
            "Epoch [9/10], Step [600/782], Loss: 0.0126\n",
            "Epoch [9/10], Step [700/782], Loss: 0.0205\n",
            "Epoch [10/10], Step [100/782], Loss: 0.0313\n",
            "Epoch [10/10], Step [200/782], Loss: 0.1427\n",
            "Epoch [10/10], Step [300/782], Loss: 0.1282\n",
            "Epoch [10/10], Step [400/782], Loss: 0.0049\n",
            "Epoch [10/10], Step [500/782], Loss: 0.0389\n",
            "Epoch [10/10], Step [600/782], Loss: 0.0309\n",
            "Epoch [10/10], Step [700/782], Loss: 0.0054\n"
          ],
          "name": "stdout"
        }
      ]
    },
    {
      "cell_type": "code",
      "metadata": {
        "id": "JdRPQF19woqV",
        "colab_type": "code",
        "colab": {
          "base_uri": "https://localhost:8080/",
          "height": 53
        },
        "outputId": "bf87ce08-6193-4638-fdd8-ea9612605bbb"
      },
      "source": [
        "model.eval() ## you should set your model as evaluation mode for BN and Dropout\n",
        "with torch.no_grad():\n",
        "  correct = 0\n",
        "  total = 0\n",
        "  for images, labels in test_loader:\n",
        "    images = images.to(device)\n",
        "    labels = labels.to(device)\n",
        "    outputs = model(images)\n",
        "    _, predicted = torch.max(outputs.data, 1)\n",
        "    loss = criterion(outputs, labels)\n",
        "\n",
        "    total += labels.size(0)\n",
        "    correct += (predicted == labels).sum().item()\n",
        "          \n",
        "  val_acc = 100 * (correct / total)\n",
        "            \n",
        "  val_loss = loss.cpu().data.numpy()\n",
        "  print('Epoch [{}/{}], Validation Loss : {}'.format(epoch+1,num_epochs,val_loss))\n",
        "  print('Validation Accuracy of the model : {} %'.format(val_acc))\n",
        "      "
      ],
      "execution_count": 12,
      "outputs": [
        {
          "output_type": "stream",
          "text": [
            "Epoch [10/10], Validation Loss : 0.8108189702033997\n",
            "Validation Accuracy of the model : 80.58999999999999 %\n"
          ],
          "name": "stdout"
        }
      ]
    },
    {
      "cell_type": "code",
      "metadata": {
        "id": "Qo182U3NfGxk",
        "colab_type": "code",
        "colab": {
          "base_uri": "https://localhost:8080/",
          "height": 549
        },
        "outputId": "b1c0be87-5aad-420b-bb49-656f6635ad48"
      },
      "source": [
        "epoch_list=np.arange(0,epoch+1)\n",
        "\n",
        "\n",
        "plt.plot(epoch_list,loss_list,'b',label='loss_function')\n",
        "plt.xlabel('Epoch', fontsize=10)\n",
        "plt.ylabel('Loss', fontsize=10)\n",
        "plt.legend()\n",
        "plt.show()\n",
        "\n",
        "plt.plot(epoch_list,acc_list,'r',label='accuracy')\n",
        "plt.xlabel('Epoch', fontsize=10)\n",
        "plt.ylabel('Test Accuracy', fontsize=10)\n",
        "plt.legend()\n",
        "plt.show()\n"
      ],
      "execution_count": 13,
      "outputs": [
        {
          "output_type": "display_data",
          "data": {
            "image/png": "[encoded data removed]",
            "text/plain": [
              "<Figure size 432x288 with 1 Axes>"
            ]
          },
          "metadata": {
            "tags": []
          }
        },
        {
          "output_type": "display_data",
          "data": {
            "image/png": "[encoded data removed]",
            "text/plain": [
              "<Figure size 432x288 with 1 Axes>"
            ]
          },
          "metadata": {
            "tags": []
          }
        }
      ]
    },
    {
      "cell_type": "code",
      "metadata": {
        "id": "AtAovRejF5S9",
        "colab_type": "code",
        "colab": {}
      },
      "source": [
        ""
      ],
      "execution_count": 0,
      "outputs": []
    }
  ]
}